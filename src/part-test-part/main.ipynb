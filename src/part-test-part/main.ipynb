{
 "cells": [
  {
   "cell_type": "markdown",
   "id": "7a5d3811-6ad5-4a12-8911-9b47a2e0f8ff",
   "metadata": {},
   "source": [
    "# This is Tester Branch"
   ]
  },
  {
   "cell_type": "code",
   "execution_count": 1,
   "id": "fd2ed816-d55a-40f7-9df4-1300ba2a12ea",
   "metadata": {},
   "outputs": [],
   "source": [
    "x = 3"
   ]
  },
  {
   "cell_type": "code",
   "execution_count": 2,
   "id": "677053d8-2147-42f4-96a7-de6c7e2d45a1",
   "metadata": {},
   "outputs": [
    {
     "data": {
      "text/plain": [
       "3"
      ]
     },
     "execution_count": 2,
     "metadata": {},
     "output_type": "execute_result"
    }
   ],
   "source": [
    "x"
   ]
  },
  {
   "cell_type": "code",
   "execution_count": null,
   "id": "47edaf44-2ee6-455e-8b94-e9e2e515526f",
   "metadata": {},
   "outputs": [],
   "source": []
  }
 ],
 "metadata": {
  "kernelspec": {
   "display_name": "Python 3 (ipykernel)",
   "language": "python",
   "name": "python3"
  },
  "language_info": {
   "codemirror_mode": {
    "name": "ipython",
    "version": 3
   },
   "file_extension": ".py",
   "mimetype": "text/x-python",
   "name": "python",
   "nbconvert_exporter": "python",
   "pygments_lexer": "ipython3",
   "version": "3.8.13"
  }
 },
 "nbformat": 4,
 "nbformat_minor": 5
}
