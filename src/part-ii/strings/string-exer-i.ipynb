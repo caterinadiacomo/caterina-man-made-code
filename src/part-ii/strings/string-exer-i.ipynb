{
 "cells": [
  {
   "cell_type": "markdown",
   "metadata": {},
   "source": [
    "# String Exercises in Python "
   ]
  },
  {
   "cell_type": "markdown",
   "metadata": {},
   "source": [
    "Let's say you want to use Python to find elements in a webpage and that you know what webpage you want.\n",
    "\n",
    "Your `pseudo-code` might appear thus:\n",
    "\n",
    "1. determine what element or elements of a web page you want to retrieve\n",
    "2. retrieve the webpage, i.e., retrieve your data\n",
    "3. place that data in a variable\n",
    "4. uncover the Python `method` is appropriate\n",
    "5. use that Python `method` to find that element or those elements"
   ]
  },
  {
   "cell_type": "code",
   "execution_count": 10,
   "metadata": {},
   "outputs": [],
   "source": [
    "# step 1\n",
    "# want to find a link, that is:\n",
    "element = '<a'\n"
   ]
  },
  {
   "cell_type": "markdown",
   "metadata": {},
   "source": [
    "> Note:  the link in an html page is found in an `anchor tag`, which begins, but does not consist in its entirety, as `<a`"
   ]
  },
  {
   "cell_type": "markdown",
   "metadata": {},
   "source": []
  },
  {
   "cell_type": "code",
   "execution_count": 8,
   "metadata": {},
   "outputs": [],
   "source": [
    "# step two\n",
    "import mywebpage\n"
   ]
  },
  {
   "cell_type": "code",
   "execution_count": 9,
   "metadata": {},
   "outputs": [],
   "source": [
    "# step 3\n",
    "# let's call the data we want just that, `data`\n",
    "data = mywebpage.page \n",
    "\n"
   ]
  },
  {
   "cell_type": "code",
   "execution_count": null,
   "metadata": {},
   "outputs": [],
   "source": []
  }
 ],
 "metadata": {
  "kernelspec": {
   "display_name": "Python 3.8.13 64-bit ('anaconda3')",
   "language": "python",
   "name": "python3"
  },
  "language_info": {
   "codemirror_mode": {
    "name": "ipython",
    "version": 3
   },
   "file_extension": ".py",
   "mimetype": "text/x-python",
   "name": "python",
   "nbconvert_exporter": "python",
   "pygments_lexer": "ipython3",
   "version": "3.8.13"
  },
  "orig_nbformat": 4,
  "vscode": {
   "interpreter": {
    "hash": "910010b9128fec0bda95a110deaa2f7baca3ef79608cce04836aad2a922a4fb5"
   }
  }
 },
 "nbformat": 4,
 "nbformat_minor": 2
}
