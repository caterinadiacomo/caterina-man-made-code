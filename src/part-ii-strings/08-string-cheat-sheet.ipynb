{
 "cells": [
  {
   "cell_type": "markdown",
   "id": "04aedc83-edae-496e-8de2-3cf7f81dbf47",
   "metadata": {
    "tags": []
   },
   "source": [
    "# String Cheat Sheet\n",
    "\n",
    "## Escape characters\n",
    "\n",
    "An escape character is created by typing a backslash `\\` followed by the character you want to insert.\n",
    "\n",
    "| Escape character | Prints as            |\n",
    "| ---------------- | -------------------- |\n",
    "| `\\'`             | Single quote         |\n",
    "| `\\\"`             | Double quote         |\n",
    "| `\\t`             | Tab                  |\n",
    "| `\\n`             | Newline (line break) |\n",
    "| `\\\\`             | Backslash            |\n",
    "| `\\b`             | Backspace            |\n",
    "| `\\ooo`           | Octal value          |\n",
    "| `\\r`             | Carriage Return      |\n",
    "\n",
    "\n"
   ]
  },
  {
   "cell_type": "code",
   "execution_count": 1,
   "id": "46381c72-1eed-458e-a30c-554829849712",
   "metadata": {},
   "outputs": [
    {
     "name": "stdout",
     "output_type": "stream",
     "text": [
      "Hello there!\n",
      "How are you?\n",
      "I'm\tdoing\tfine.\n"
     ]
    }
   ],
   "source": [
    "print('Hello there!\\nHow are you?\\nI\\'m\\tdoing\\tfine.')\n",
    "# Hello there!\n",
    "# How are you?\n",
    "# I'm doing fine."
   ]
  },
  {
   "cell_type": "markdown",
   "id": "10a46855-b233-486e-9dad-25a4500a5797",
   "metadata": {},
   "source": [
    "## Raw strings\n",
    "\n",
    "A raw string entirely ignores all escape characters and prints any backslash that appears in the string.\n",
    "\n",
    "(Raw strings are mostly used for `regular expression` definitionss but that is far beyond our scope here.)\n"
   ]
  },
  {
   "cell_type": "code",
   "execution_count": 2,
   "id": "2d61034f-ca6c-43fb-a9fe-0e2dbf6df6b1",
   "metadata": {},
   "outputs": [
    {
     "name": "stdout",
     "output_type": "stream",
     "text": [
      "Hello there!\\nHow are you?\\nI\\'m doing fine.\n"
     ]
    }
   ],
   "source": [
    "print(r\"Hello there!\\nHow are you?\\nI\\'m doing fine.\")\n",
    "# Hello there!\\nHow are you?\\nI\\'m doing fine."
   ]
  },
  {
   "cell_type": "markdown",
   "id": "6e577fb8-e4af-4845-8136-3181b56a3367",
   "metadata": {},
   "source": [
    "\n",
    "## Multiline Strings with triple quotes\n",
    "\n"
   ]
  },
  {
   "cell_type": "code",
   "execution_count": 3,
   "id": "272a1741-60a9-4de3-9c8f-0908ec8a5d93",
   "metadata": {},
   "outputs": [
    {
     "name": "stdout",
     "output_type": "stream",
     "text": [
      "Dear Alice,\n",
      "\n",
      "Eve's cat has been arrested for catnapping,\n",
      "cat burglary, and extortion.\n",
      "\n",
      "Sincerely,\n",
      "Bob\n"
     ]
    }
   ],
   "source": [
    "print(\n",
    "\"\"\"Dear Alice,\n",
    "\n",
    "Eve's cat has been arrested for catnapping,\n",
    "cat burglary, and extortion.\n",
    "\n",
    "Sincerely,\n",
    "Bob\"\"\"\n",
    ")"
   ]
  },
  {
   "cell_type": "markdown",
   "id": "267e3e8a-da1e-483c-88c6-445bb5b16dcd",
   "metadata": {},
   "source": [
    "## Indexing and Slicing strings\n",
    "\n",
    "    H   e   l   l   o       w   o   r   l   d    !\n",
    "    0   1   2   3   4   5   6   7   8   9   10   11\n",
    "\n",
    "![string indexing](images/string-index.png)\n"
   ]
  },
  {
   "cell_type": "markdown",
   "id": "538ea7af-bea4-480e-bbb9-574fd8efcb75",
   "metadata": {},
   "source": [
    "### Indexing\n"
   ]
  },
  {
   "cell_type": "code",
   "execution_count": 4,
   "id": "9c6930fe-24e8-4457-acb7-f71f9e635446",
   "metadata": {},
   "outputs": [
    {
     "name": "stdout",
     "output_type": "stream",
     "text": [
      "H\n",
      "o\n",
      "!\n"
     ]
    }
   ],
   "source": [
    "spam = 'Hello world!'\n",
    "\n",
    "print(spam[0])\n",
    "# 'H'\n",
    "\n",
    "print(spam[4])\n",
    "# 'o'\n",
    "\n",
    "print(spam[-1])\n",
    "# '!'"
   ]
  },
  {
   "cell_type": "markdown",
   "id": "677b20d3-10a5-4637-9d92-f4b6ddb2bd6a",
   "metadata": {},
   "source": [
    "### Slicing\n"
   ]
  },
  {
   "cell_type": "code",
   "execution_count": 5,
   "id": "a7122549-3c12-4c5c-ac93-53907d5d18a7",
   "metadata": {},
   "outputs": [
    {
     "name": "stdout",
     "output_type": "stream",
     "text": [
      "Hello\n",
      "Hello\n",
      "world!\n",
      "world\n",
      "Hello world\n",
      "!dlrow olleH\n",
      "Hello\n"
     ]
    }
   ],
   "source": [
    "spam = 'Hello world!'\n",
    "\n",
    "print(spam[0:5])\n",
    "\n",
    "# 'Hello'\n",
    "\n",
    "print(spam[:5])\n",
    "\n",
    "# 'Hello'\n",
    "\n",
    "print(spam[6:])\n",
    "\n",
    "# 'world!'\n",
    "\n",
    "print(spam[6:-1])\n",
    "\n",
    "# 'world'\n",
    "\n",
    "print(spam[:-1])\n",
    "\n",
    "# 'Hello world'\n",
    "\n",
    "print(spam[::-1])\n",
    "\n",
    "# '!dlrow olleH'\n",
    "\n",
    "fizz = spam[0:5]\n",
    "print(fizz)\n",
    "\n",
    "# 'Hello'\n"
   ]
  },
  {
   "cell_type": "markdown",
   "id": "081d0cc4-f352-4bc6-a754-83f61579d4b9",
   "metadata": {},
   "source": [
    "## `find()` method\n"
   ]
  },
  {
   "cell_type": "code",
   "execution_count": 6,
   "id": "dcdd1378-f520-4f4b-b3cb-fd1c42d0b720",
   "metadata": {},
   "outputs": [
    {
     "name": "stdout",
     "output_type": "stream",
     "text": [
      "11\n",
      "The first 'e' appears in the string s at the index location 11.\n"
     ]
    }
   ],
   "source": [
    "s = \"This is a sentence ending in three.\"\n",
    "\n",
    "where_is_e = s.find('e')\n",
    "\n",
    "print(where_is_e)  # i.e., find() returns an INTEGER, and the default is the location of the first occurrence.\n",
    "print(f\"The first 'e' appears in the string s at the index location {where_is_e}.\")"
   ]
  },
  {
   "cell_type": "markdown",
   "id": "6d1f0cdd-94b4-4110-8376-8d1035aeb125",
   "metadata": {},
   "source": [
    "## The `in` and `not in` operators\n",
    "\n",
    "Think about these for a second.  Sometimes, before even searching for something, you'll want to see if it is even there ... wherever that might be.  "
   ]
  },
  {
   "cell_type": "code",
   "execution_count": 7,
   "id": "b14f5044-e07f-48df-a81d-d1cc2bfa4705",
   "metadata": {},
   "outputs": [
    {
     "name": "stdout",
     "output_type": "stream",
     "text": [
      "True\n",
      "True\n",
      "False\n",
      "True\n",
      "False\n"
     ]
    }
   ],
   "source": [
    "print('Hello' in 'Hello World')\n",
    "\n",
    "# True\n",
    "\n",
    "print('Hello' in 'Hello')\n",
    "\n",
    "# True\n",
    "\n",
    "print('HELLO' in 'Hello World')\n",
    "\n",
    "# False\n",
    "\n",
    "print('' in 'spam')\n",
    "\n",
    "# True\n",
    "\n",
    "print('cats' not in 'cats and dogs')\n",
    "\n",
    "# False\n"
   ]
  },
  {
   "cell_type": "markdown",
   "id": "9b3afabc-08fb-4db5-942b-a3716260c1b0",
   "metadata": {},
   "source": [
    "## `upper()` and `lower()` methods\n",
    "\n",
    "Transforms a string to upper and lower case:\n"
   ]
  },
  {
   "cell_type": "code",
   "execution_count": 8,
   "id": "2c666d22-39d8-49f8-9f70-be6e26ee9fb9",
   "metadata": {},
   "outputs": [
    {
     "name": "stdout",
     "output_type": "stream",
     "text": [
      "HELLO WORLD!\n",
      "hello world!\n"
     ]
    }
   ],
   "source": [
    "greet = 'Hello world!'\n",
    "greet = greet.upper()\n",
    "print(greet)\n",
    "\n",
    "# 'HELLO WORLD!'\n",
    "\n",
    "greet = greet.lower()\n",
    "print(greet)\n",
    "\n",
    "# 'hello world!'\n"
   ]
  },
  {
   "cell_type": "markdown",
   "id": "96b5369a-4b6a-4cb7-9f31-91f393cefd6d",
   "metadata": {},
   "source": [
    "## `isupper()` and `islower()` methods\n",
    "\n",
    "Returns `True` or `False` after evaluating if a string is in upper or lower case:\n"
   ]
  },
  {
   "cell_type": "code",
   "execution_count": 9,
   "id": "48cd2042-b09e-4805-971a-dc6c765b5e6f",
   "metadata": {},
   "outputs": [
    {
     "name": "stdout",
     "output_type": "stream",
     "text": [
      "False\n",
      "False\n",
      "True\n",
      "True\n",
      "False\n",
      "False\n"
     ]
    }
   ],
   "source": [
    "spam = 'Hello world!'\n",
    "print(spam.islower())\n",
    "\n",
    "# False\n",
    "\n",
    "print(spam.isupper())\n",
    "\n",
    "# False\n",
    "\n",
    "print('HELLO'.isupper())\n",
    "\n",
    "# True\n",
    "\n",
    "print('abc12345'.islower())\n",
    "\n",
    "# True\n",
    "\n",
    "print('12345'.islower())\n",
    "\n",
    "# False\n",
    "\n",
    "print('12345'.isupper())\n",
    "\n",
    "# False\n"
   ]
  },
  {
   "cell_type": "markdown",
   "id": "9f28c3d9-9b6e-4205-8024-4f3494e4b6d3",
   "metadata": {},
   "source": [
    "## The `isX` string methods\n",
    "\n",
    "| Method        | Description                                                                                                                    |\n",
    "| ------------- | ------------------------------------------------------------------------------------------------------------------------------ |\n",
    "| `isalpha()`   | returns `True` if the string consists only of letters.                                                                         |\n",
    "| `isalnum()`   | returns `True` if the string consists only of letters and numbers.                                                             |\n",
    "| `isdecimal()` | returns `True` if the string consists only of numbers.                                                                         |\n",
    "| `isdigit()`   | returns `True` if the string consists only of digits.                                                                          |\n",
    "| `isspace()`   | returns `True` if the string consists only of spaces, tabs, and new-lines.                                                     |\n",
    "| `istitle()`   | returns `True` if the string consists only of words that begin with an uppercase letter followed by only lowercase characters. \n"
   ]
  },
  {
   "cell_type": "markdown",
   "id": "5a7200ec-260d-4695-9e3d-33beb0f6abeb",
   "metadata": {},
   "source": [
    "## The `startswith()` and `endswith()` methods"
   ]
  },
  {
   "cell_type": "code",
   "execution_count": 10,
   "id": "ac9508f8-7f4a-45e0-885b-8535c014b263",
   "metadata": {},
   "outputs": [
    {
     "name": "stdout",
     "output_type": "stream",
     "text": [
      "True\n",
      "True\n",
      "False\n",
      "False\n",
      "True\n",
      "True\n"
     ]
    }
   ],
   "source": [
    "print('Hello world!'.startswith('Hello'))\n",
    "\n",
    "# True\n",
    "\n",
    "print('Hello world!'.endswith('world!'))\n",
    "\n",
    "# True\n",
    "\n",
    "print('abc123'.startswith('abcdef'))\n",
    "\n",
    "# False\n",
    "\n",
    "print('abc123'.endswith('12'))\n",
    "\n",
    "# False\n",
    "\n",
    "print('Hello world!'.startswith('Hello world!'))\n",
    "\n",
    "# True\n",
    "\n",
    "print('Hello world!'.endswith('Hello world!'))\n",
    "\n",
    "# True\n"
   ]
  },
  {
   "cell_type": "markdown",
   "id": "5ec0781d-e03e-4a46-837c-98bc8230419a",
   "metadata": {},
   "source": [
    "## The `join()` and `split()` string methods\n",
    "\n",
    "### `join()`\n",
    "\n",
    "The `join()` method takes all the items in an iterable, like a list, dictionary, tuple, or set, and joins them into a string. You can also specify a separator.\n"
   ]
  },
  {
   "cell_type": "code",
   "execution_count": 11,
   "id": "4add6a40-72a9-4652-a206-a014bb86949e",
   "metadata": {},
   "outputs": [
    {
     "name": "stdout",
     "output_type": "stream",
     "text": [
      "MynameisSimon\n",
      "cats, rats, bats\n",
      "My name is Simon\n",
      "MyABCnameABCisABCSimon\n"
     ]
    }
   ],
   "source": [
    "print(''.join(['My', 'name', 'is', 'Simon']))\n",
    "# 'MynameisSimon'\n",
    "\n",
    "print(', '.join(['cats', 'rats', 'bats']))\n",
    "# 'cats, rats, bats'\n",
    "\n",
    "print(' '.join(['My', 'name', 'is', 'Simon']))\n",
    "# 'My name is Simon'\n",
    "\n",
    "print('ABC'.join(['My', 'name', 'is', 'Simon']))\n",
    "# 'MyABCnameABCisABCSimon'"
   ]
  },
  {
   "cell_type": "markdown",
   "id": "7cfa0036-339a-4cd9-9979-c813c2b1a242",
   "metadata": {},
   "source": [
    "### `split()`\n",
    "\n",
    "The `split()` method splits a `string` into a `list`.\n",
    "\n",
    "By default, it will use whitespace to separate the items, but you can also set another character of choice:\n"
   ]
  },
  {
   "cell_type": "code",
   "execution_count": 12,
   "id": "b32b4d7a-9e00-444c-bfce-aea5dda62c5f",
   "metadata": {},
   "outputs": [
    {
     "name": "stdout",
     "output_type": "stream",
     "text": [
      "['My', 'name', 'is', 'Simon']\n",
      "['My', 'name', 'is', 'Simon']\n",
      "['My na', 'e is Si', 'on']\n",
      "['My', 'name', 'is', 'Simon']\n",
      "['', 'My', '', 'name', 'is', '', 'Simon']\n"
     ]
    }
   ],
   "source": [
    "print('My name is Simon'.split())\n",
    "# ['My', 'name', 'is', 'Simon']\n",
    "\n",
    "print('MyABCnameABCisABCSimon'.split('ABC'))\n",
    "# ['My', 'name', 'is', 'Simon']\n",
    "\n",
    "print('My name is Simon'.split('m'))\n",
    "# ['My na', 'e is Si', 'on']\n",
    "\n",
    "print(' My  name is  Simon'.split())\n",
    "# ['My', 'name', 'is', 'Simon']\n",
    "\n",
    "print(' My  name is  Simon'.split(' '))\n",
    "# ['', 'My', '', 'name', 'is', '', 'Simon']"
   ]
  },
  {
   "cell_type": "markdown",
   "id": "826ed2d0-97ea-420e-a4f1-babdba5355f7",
   "metadata": {},
   "source": [
    "## Justifying text with `rjust()`, `ljust()` and `center()`\n"
   ]
  },
  {
   "cell_type": "code",
   "execution_count": 13,
   "id": "dd8e2dec-a566-4817-8da9-8b48558eafc6",
   "metadata": {},
   "outputs": [
    {
     "name": "stdout",
     "output_type": "stream",
     "text": [
      "     Hello\n",
      "               Hello\n",
      "         Hello World\n",
      "Hello     \n",
      "       Hello        \n"
     ]
    }
   ],
   "source": [
    "print('Hello'.rjust(10))\n",
    "# '     Hello'\n",
    "\n",
    "print('Hello'.rjust(20))\n",
    "# '               Hello'\n",
    "\n",
    "print('Hello World'.rjust(20))\n",
    "# '         Hello World'\n",
    "\n",
    "print('Hello'.ljust(10))\n",
    "# 'Hello     '\n",
    "\n",
    "print('Hello'.center(20))\n",
    "# '       Hello       '"
   ]
  },
  {
   "cell_type": "markdown",
   "id": "0b1d8e39-4e5f-4280-8988-e118aaa790d1",
   "metadata": {},
   "source": [
    "An optional second argument to `rjust()` and `ljust()` will specify a fill character apart from a space character:\n"
   ]
  },
  {
   "cell_type": "markdown",
   "id": "6a01d718-f0a6-490a-9e5f-3c9ef44d38f9",
   "metadata": {},
   "source": [
    "print('Hello'.rjust(20, '*'))\n",
    "\n",
    "# '**\\*\\***\\*\\*\\***\\*\\***Hello'\n",
    "\n",
    "print('Hello'.ljust(20, '-'))\n",
    "\n",
    "# 'Hello---------------'\n",
    "\n",
    "print('Hello'.center(20, '='))\n",
    "\n",
    "# '=======Hello========'\n"
   ]
  },
  {
   "cell_type": "markdown",
   "id": "cea055c2-5101-4c46-8b5e-4ce1f7d2bb0d",
   "metadata": {},
   "source": [
    "## Removing whitespace with `strip()`, `rstrip()`, and `lstrip()`\n"
   ]
  },
  {
   "cell_type": "code",
   "execution_count": 14,
   "id": "9690358c-7a32-49f4-8d3b-7820d9216426",
   "metadata": {},
   "outputs": [
    {
     "name": "stdout",
     "output_type": "stream",
     "text": [
      "Hello World\n",
      "Hello World \n",
      " Hello World\n",
      "BaconSpamEggs\n"
     ]
    }
   ],
   "source": [
    "spam = ' Hello World '\n",
    "print(spam.strip())\n",
    "\n",
    "# 'Hello World'\n",
    "\n",
    "print(spam.lstrip())\n",
    "\n",
    "# 'Hello World '\n",
    "\n",
    "print(spam.rstrip())\n",
    "\n",
    "# ' Hello World'\n",
    "\n",
    "spam = 'SpamSpamBaconSpamEggsSpamSpam'\n",
    "print(spam.strip('ampS'))\n",
    "\n",
    "# 'BaconSpamEggs'\n"
   ]
  }
 ],
 "metadata": {
  "kernelspec": {
   "display_name": "Python 3 (ipykernel)",
   "language": "python",
   "name": "python3"
  },
  "language_info": {
   "codemirror_mode": {
    "name": "ipython",
    "version": 3
   },
   "file_extension": ".py",
   "mimetype": "text/x-python",
   "name": "python",
   "nbconvert_exporter": "python",
   "pygments_lexer": "ipython3",
   "version": "3.8.13"
  }
 },
 "nbformat": 4,
 "nbformat_minor": 5
}
