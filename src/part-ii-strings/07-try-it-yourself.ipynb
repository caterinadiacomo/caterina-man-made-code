{
 "cells": [
  {
   "cell_type": "markdown",
   "id": "7b9e945b-cf98-4660-acd9-6aedbe27b4ba",
   "metadata": {},
   "source": [
    "# Try It Yourself\n",
    "\n",
    "Applying the same methodology for extracting a hextet, we can extract the url from an html anchor tag. The steps can be enumerated:\n",
    "\n",
    "- use `find()` to identify the index location of the first tag on the page - using as an argument to `find()` the string `<a href=`\n",
    "- by the same method, find the quote `\"` mark's index position\n",
    "- then the second quote mark\n",
    "- extract the url from between those two quote marks."
   ]
  },
  {
   "cell_type": "code",
   "execution_count": 1,
   "id": "854eca3d-52df-4dbf-ab8b-e1c93d4cdb36",
   "metadata": {},
   "outputs": [],
   "source": [
    "# our data\n",
    "page = \"\"\"\n",
    "    <h1>Lorem ipsum dolor sit amet.</h1>\n",
    "    <ul>\n",
    "      <li>\n",
    "        <a href=\"https://brave.com\">Search</a>\n",
    "      </li>\n",
    "      <li><a href=\"https://docs.python.org/3\">Python docs</a></li>\n",
    "    </ul>\n",
    "\"\"\"\n",
    "\n",
    "# find the first import index value\n",
    "start_link = None\n",
    "# find the first quote mark\n",
    "start_quote = None\n",
    "# find the final quote mark that comes just before the end of the url\n",
    "end_quote = None\n",
    "\n",
    "# now we use string slicing for extraction\n",
    "url = None"
   ]
  }
 ],
 "metadata": {
  "kernelspec": {
   "display_name": "Python 3 (ipykernel)",
   "language": "python",
   "name": "python3"
  },
  "language_info": {
   "codemirror_mode": {
    "name": "ipython",
    "version": 3
   },
   "file_extension": ".py",
   "mimetype": "text/x-python",
   "name": "python",
   "nbconvert_exporter": "python",
   "pygments_lexer": "ipython3",
   "version": "3.8.13"
  }
 },
 "nbformat": 4,
 "nbformat_minor": 5
}
